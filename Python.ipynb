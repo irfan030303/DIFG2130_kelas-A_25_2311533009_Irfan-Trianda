{
  "nbformat": 4,
  "nbformat_minor": 0,
  "metadata": {
    "colab": {
      "provenance": []
    },
    "kernelspec": {
      "name": "python3",
      "display_name": "Python 3"
    },
    "language_info": {
      "name": "python"
    }
  },
  "cells": [
    {
      "cell_type": "code",
      "execution_count": null,
      "metadata": {
        "colab": {
          "base_uri": "https://localhost:8080/"
        },
        "id": "g0giSENf2xLT",
        "outputId": "d4af8966-7223-454c-9669-cb7699fd7af5"
      },
      "outputs": [
        {
          "output_type": "stream",
          "name": "stdout",
          "text": [
            "0\n",
            "But I don't want ANY spam!\n",
            "Spam Spam Spam Spam \n"
          ]
        },
        {
          "output_type": "execute_result",
          "data": {
            "text/plain": [
              "int"
            ]
          },
          "metadata": {},
          "execution_count": 1
        }
      ],
      "source": [
        "spam_amount = 0\n",
        "print(spam_amount)\n",
        "\n",
        "spam_amount = spam_amount + 4\n",
        "\n",
        "if spam_amount > 0:\n",
        "    print(\"But I don't want ANY spam!\")\n",
        "\n",
        "viking_song = \"Spam \" * spam_amount\n",
        "print(viking_song)\n",
        "\n",
        "type(spam_amount)"
      ]
    },
    {
      "cell_type": "markdown",
      "source": [
        "pada kodingan ini akan mendeklarasikan variabel spam_amount yang bernilai 0 dan akan melakukan perintah print dengan output 0.\n",
        "lalu variabel spam_amount tadi di tambah dengan 4 dan tetap menggunakan nama variabel spam_amount.\n",
        "pada baris kode berikutnya terdapat kode jika variabel spam_amount tadi lebih besar dari 0 maka akan mengeluarkan output \"But I don't want ANY spam!\".\n",
        "stelah itu terdapat variabel baru yang bernama viking_song pada variabel tersebut terdapat kata \"spam\" dan kata itu akan keluar sebanyak nilai spam_amount ketika dpanggil.untuk melihat outputnya bisa menggunakan print.selanjutnya kode type untuk melihat tipe data."
      ],
      "metadata": {
        "id": "zb27fpVk4Zd-"
      }
    },
    {
      "cell_type": "code",
      "source": [
        "a = 10\n",
        "b = 2\n",
        "print(a + b\t)\n",
        "print(a - b)\n",
        "print(a * b\t)\n",
        "print(a / b\t)\n",
        "print(a // b)\n",
        "print(a % b)\n",
        "print(a ** b)\n",
        "print(-a)\n",
        "print(min(1, 2, 3))\n",
        "print(max(1, 2, 3))\n",
        "print(abs(32))\n",
        "print(abs(-32))\n",
        "print(float(10))\n",
        "print(int(3.33))"
      ],
      "metadata": {
        "colab": {
          "base_uri": "https://localhost:8080/"
        },
        "id": "ceqfbhVf5EmE",
        "outputId": "e5cf6bec-2a79-4baa-8bb0-0f3ff959e8c0"
      },
      "execution_count": null,
      "outputs": [
        {
          "output_type": "stream",
          "name": "stdout",
          "text": [
            "12\n",
            "8\n",
            "20\n",
            "5.0\n",
            "5\n",
            "0\n",
            "100\n",
            "-10\n",
            "1\n",
            "3\n",
            "32\n",
            "32\n",
            "10.0\n",
            "3\n"
          ]
        }
      ]
    },
    {
      "cell_type": "markdown",
      "source": [
        "terdapat tanda pada operasi perhitungan untuk python seprti tanda \"+\" untuk menambahkan antar variabel,tanda\"-\" untuk melakukan pengurangan antar  variabel atau untuk membuat variabel menjadi negatif, tanda\"/\" untuk membagi antar variabel dalam format flout, tanda \"//\" untuk melakukan pembagian , tanda \"%\" untuk mencar modulus antar variabel, tanda \"*\" untuk mengkalikan antar variabel, tanda \"**\" untuk  menghitung pangkat suatu variabel,selain operasi itu kita juga bisa mengubah variabel yang awalnya bernilai integer menjadi flout dengan menggunakan \"flout(10)\" ataupun sebaliknya,lalu juga terdapat kode \"max\" untuk mencari nilai maximum dari array\"min\" untuk mencari nilai minimum dari array dan \"abs\" untuk membuat nilai dari operasi atau variabel apapun menjadi positif."
      ],
      "metadata": {
        "id": "s6Sm3TLf_RGP"
      }
    },
    {
      "cell_type": "code",
      "source": [
        "help(round)\n"
      ],
      "metadata": {
        "colab": {
          "base_uri": "https://localhost:8080/"
        },
        "id": "m0GbKqd6CwqI",
        "outputId": "8c8e574a-5c8f-415a-b267-641e673dc6f4"
      },
      "execution_count": null,
      "outputs": [
        {
          "output_type": "stream",
          "name": "stdout",
          "text": [
            "Help on built-in function round in module builtins:\n",
            "\n",
            "round(number, ndigits=None)\n",
            "    Round a number to a given precision in decimal digits.\n",
            "    \n",
            "    The return value is an integer if ndigits is omitted or None.  Otherwise\n",
            "    the return value has the same type as the number.  ndigits may be negative.\n",
            "\n"
          ]
        }
      ]
    },
    {
      "cell_type": "markdown",
      "source": [
        "kode \"help\" digunakan untuk menampilkan dokumentasi atau informasi bantuan tentang objek, fungsi, modul, atau kelas tertentu."
      ],
      "metadata": {
        "id": "OIXRn2HYE7Wu"
      }
    },
    {
      "cell_type": "code",
      "source": [
        "def mult_by_five(x):\n",
        "    return 5 * x\n",
        "def call(fn, arg):\n",
        "    \"\"\"Call fn on arg\"\"\"\n",
        "    return fn(arg)\n",
        "def squared_call(fn, arg):\n",
        "    \"\"\"Call fn on the result of calling fn on arg\"\"\"\n",
        "    return fn(fn(arg))\n",
        "print(\n",
        "    call(mult_by_five, 1),\n",
        "    squared_call(mult_by_five, 1),\n",
        "    sep='\\n',)\n"
      ],
      "metadata": {
        "colab": {
          "base_uri": "https://localhost:8080/"
        },
        "id": "AzmmGJaYFTl8",
        "outputId": "1c028a47-3054-49ba-d68f-af1f9f2591aa"
      },
      "execution_count": null,
      "outputs": [
        {
          "output_type": "stream",
          "name": "stdout",
          "text": [
            "5\n",
            "25\n"
          ]
        }
      ]
    },
    {
      "cell_type": "markdown",
      "source": [
        "def digunakan untuk mendefinisikan fungsi dalam Python.pada Fungsi pertama menerima satu parameter x dan mengembalikan hasil perkalian x dengan 5.Fungsi kedua menerima dua parameter \"fn\" sebuah fungsi yang akan dipanggil.\n",
        "\"arg\" nilai yang akan diberikan sebagai argumen untuk fungsi fn.Kemudian, fn(arg) akan dijalankan dan hasilnya dikembalikan.lalu fungsi ketiga ini juga menerima dua parameter.Berbeda dengan call(), fungsi ini akan memanggil fn dua kali secara bertingkat.pada bagian print akan memanggil fungsi call(mult_by_five, 1) hanya memanggil mult_by_five(1), hasilnya 5 dan squared_call(mult_by_five, 1) memanggil mult_by_five dua kali sehingga hasilnya 25."
      ],
      "metadata": {
        "id": "IahWdQ0iZrKY"
      }
    },
    {
      "cell_type": "code",
      "source": [
        "a = 2\n",
        "b = 3\n",
        "print (a == b)\n",
        "print (a != b)\n",
        "print (a < b\t)\n",
        "print (a > b\t)\n",
        "print (a <= b\t)\n",
        "print (a >= b)\n",
        "print(bool(-1))\n",
        "print(bool(0))\n",
        "\n",
        "c = 0\n",
        "if c == 0:\n",
        "    print(0)\n",
        "elif \"spam\":\n",
        "    print(\"spam\")"
      ],
      "metadata": {
        "colab": {
          "base_uri": "https://localhost:8080/"
        },
        "id": "F3cDfbWgQgb9",
        "outputId": "b771a3e5-0818-4c44-8690-fab13f2b2315"
      },
      "execution_count": null,
      "outputs": [
        {
          "output_type": "stream",
          "name": "stdout",
          "text": [
            "False\n",
            "True\n",
            "True\n",
            "False\n",
            "True\n",
            "False\n",
            "True\n",
            "False\n",
            "0\n"
          ]
        }
      ]
    },
    {
      "cell_type": "markdown",
      "source": [
        "tanda \"==\" digunakan untuk mengecek apakah variabel itu nilainya Sama atau tidak , tanda \"<\" \">\" digunakan untuk mengecek apakah satu variabel besar atau kecil dari variabel lainnya, tanda \">=\"\"<=\" digunakan untuk mengecek apakah satu variabel besar,kecil atau sama dengan variabel lainnya.Lalu juga ada fungsi bool() yang digunakan untuk mengonversi suatu nilai menjadi Boolean (True atau False) jika nilainya 0 akan menjadi false dan nilai selain 0 akan menjadi true.selan itu juga ada tanda \"if\"\"elif\"\"else\".\n",
        "\"if\" Digunakan untuk memeriksa suatu kondisi. Jika kondisi tersebut benar (True), \"elif\" Digunakan untuk memeriksa kondisi tambahan jika kondisi sebelumnya (if) tidak terpenuhi dan \"else\" Digunakan untuk menangani semua kondisi yang tidak terpenuhi oleh if atau elif."
      ],
      "metadata": {
        "id": "MVq0I8_xd6Kl"
      }
    },
    {
      "cell_type": "code",
      "source": [
        "planets = ['Mercury', 'Venus', 'Earth', 'Mars', 'Jupiter', 'Saturn', 'Uranus', 'Neptune']\n",
        "print(planets[1])\n",
        "print(planets[0:3])\n",
        "print(planets[:3])\n",
        "print(planets[3:])\n",
        "print(planets[1:-1])\n",
        "planets[3] = 'Malacandra'\n",
        "print(planets)\n",
        "print(len(planets))\n",
        "print(sorted(planets))\n",
        "primes = [2, 3, 5, 7]\n",
        "print(sum(primes))\n",
        "print(max(primes))\n",
        "planets.append('Pluto')\n",
        "print(planets)\n",
        "planets.pop()\n",
        "print(planets)\n"
      ],
      "metadata": {
        "colab": {
          "base_uri": "https://localhost:8080/"
        },
        "id": "UOyLr67kexSH",
        "outputId": "7a0db0a2-2010-4cf5-d0df-53e3cdfab83a"
      },
      "execution_count": null,
      "outputs": [
        {
          "output_type": "stream",
          "name": "stdout",
          "text": [
            "Venus\n",
            "['Mercury', 'Venus', 'Earth']\n",
            "['Mercury', 'Venus', 'Earth']\n",
            "['Mars', 'Jupiter', 'Saturn', 'Uranus', 'Neptune']\n",
            "['Venus', 'Earth', 'Mars', 'Jupiter', 'Saturn', 'Uranus']\n",
            "['Mercury', 'Venus', 'Earth', 'Malacandra', 'Jupiter', 'Saturn', 'Uranus', 'Neptune']\n",
            "8\n",
            "['Earth', 'Jupiter', 'Malacandra', 'Mercury', 'Neptune', 'Saturn', 'Uranus', 'Venus']\n",
            "17\n",
            "7\n",
            "['Mercury', 'Venus', 'Earth', 'Malacandra', 'Jupiter', 'Saturn', 'Uranus', 'Neptune', 'Pluto']\n",
            "['Mercury', 'Venus', 'Earth', 'Malacandra', 'Jupiter', 'Saturn', 'Uranus', 'Neptune']\n"
          ]
        }
      ]
    },
    {
      "cell_type": "markdown",
      "source": [
        "Pada python untuk membuat list menggunakan\"list = []\" melihat index dari list dapat mengunakan \"list[index]\" lalu untuk melihat beberapa index tertentu dapat menggunakan \"list =[index awal : index akhir]\" untuk melihat index dari index awal yaang dipilih hingga index akhir yang dipilih selain itu kita dapat menentukan sampai mana index akan dilihat dengan menggunakan \"list =[: index batas]\" lalu juga bisa melihat index awal yang ditentukan hingga index terakhir dengan \"list =[index mulai:]\"\n",
        "index negatif pada list merujuk kepada elemen akhir list. seperti Indeks -1 merujuk pada elemen terakhir.lalu jika ingin mengganti index tertentu di dalam list dapat menggunakan \"list[index] = 'elment yang akan ditambahkan'\" jika menambhakan element kedalam list index terakhir menggunakan \"list.append('element yang akan ditambahkan')\" dan untuk menghapus element terakhir pada list menggunakan \"list.pop()\".selanjutnya jika ingin mengetahui panjang dari list menggunakan \"len(list)\" untuk mengurutukan isi list menggunakan \"sorted(list)\" untuk menjumlahkan isi di dalam list jika isi di dalamnya bertipe integer menggunakan \"sum(list)\" mencari nilai maximal menggunakan \"max(list)\"."
      ],
      "metadata": {
        "id": "IYPqU_fZPFli"
      }
    },
    {
      "cell_type": "code",
      "source": [
        "\"Calbefraques\" in planets\n"
      ],
      "metadata": {
        "colab": {
          "base_uri": "https://localhost:8080/"
        },
        "id": "n2S7Ye6-hxgc",
        "outputId": "fe9d0ea2-c894-4217-ade0-e677725220a1"
      },
      "execution_count": null,
      "outputs": [
        {
          "output_type": "execute_result",
          "data": {
            "text/plain": [
              "False"
            ]
          },
          "metadata": {},
          "execution_count": 30
        }
      ]
    },
    {
      "cell_type": "code",
      "source": [
        "\n",
        "\"Earth\" in planets"
      ],
      "metadata": {
        "colab": {
          "base_uri": "https://localhost:8080/"
        },
        "id": "nYg4V_3Ppk-h",
        "outputId": "f6eb6780-cddd-4bcc-ce30-050ebc93d401"
      },
      "execution_count": null,
      "outputs": [
        {
          "output_type": "execute_result",
          "data": {
            "text/plain": [
              "True"
            ]
          },
          "metadata": {},
          "execution_count": 29
        }
      ]
    },
    {
      "cell_type": "code",
      "source": [
        "planets.index('Earth')"
      ],
      "metadata": {
        "colab": {
          "base_uri": "https://localhost:8080/"
        },
        "id": "v98unuXFpk4c",
        "outputId": "5d5dca04-76bd-4ea3-d71e-e91d1ac8a9d6"
      },
      "execution_count": null,
      "outputs": [
        {
          "output_type": "execute_result",
          "data": {
            "text/plain": [
              "2"
            ]
          },
          "metadata": {},
          "execution_count": 31
        }
      ]
    },
    {
      "cell_type": "code",
      "source": [
        "t = 1, 2, 3\n",
        "t"
      ],
      "metadata": {
        "id": "8EPOp279tQDb"
      },
      "execution_count": null,
      "outputs": []
    },
    {
      "cell_type": "code",
      "source": [
        "a = 1\n",
        "b = 0\n",
        "a, b = b, a\n",
        "print(a, b)"
      ],
      "metadata": {
        "colab": {
          "base_uri": "https://localhost:8080/"
        },
        "id": "5k12XUyStcvu",
        "outputId": "4fd72143-1b45-4c0d-c6e8-6e8a45f41aeb"
      },
      "execution_count": null,
      "outputs": [
        {
          "output_type": "stream",
          "name": "stdout",
          "text": [
            "0 1\n"
          ]
        }
      ]
    },
    {
      "cell_type": "markdown",
      "source": [
        "untuk mengecek suatu element di dalam list dapat menggunakan \"\"element\" in list\" jika ada maka hasilnya true jika tidak ada false,jika ingin ngecek element di index dalam list dapat menggunakan \"list.index('element')\" dan untuk menukar nilai dua variabel dapat menggunakan \"variabel1,variabel2 = variabel2,variabel1\". selain list juga terdapat tuppel yang mirip dengan list tetapi tidak dapat di ubah element di dalamnya."
      ],
      "metadata": {
        "id": "ZnOdOke4iYzs"
      }
    },
    {
      "cell_type": "code",
      "source": [
        "planets = ['Mercury', 'Venus', 'Earth', 'Mars', 'Jupiter', 'Saturn', 'Uranus', 'Neptune']\n",
        "for planet in planets:\n",
        "    print(planet, end=' ')\n",
        "\n",
        "multiplicands = (2, 2, 2, 3, 3, 5)\n",
        "product = 1\n",
        "for mult in multiplicands:\n",
        "    product = product * mult\n",
        "product\n",
        "\n",
        "for i in range(5):\n",
        "    print(\"Doing important work. i =\", i)\n",
        "\n",
        "i = 0\n",
        "while i < 10:\n",
        "    print(i, end=' ')\n",
        "    i += 1\n",
        "\n"
      ],
      "metadata": {
        "colab": {
          "base_uri": "https://localhost:8080/"
        },
        "id": "ShxuFMRNt-r-",
        "outputId": "739e8c3f-f97e-4427-e836-ee8d888b2d43"
      },
      "execution_count": 27,
      "outputs": [
        {
          "output_type": "stream",
          "name": "stdout",
          "text": [
            "Mercury Venus Earth Mars Jupiter Saturn Uranus Neptune Doing important work. i = 0\n",
            "Doing important work. i = 1\n",
            "Doing important work. i = 2\n",
            "Doing important work. i = 3\n",
            "Doing important work. i = 4\n",
            "0 1 2 3 4 5 6 7 8 9 "
          ]
        }
      ]
    },
    {
      "cell_type": "markdown",
      "source": [
        "Jika ingin mencetak setiap elemen dalam list juga dapat menggunakan perulangan seperti ini\n",
        "\"for n in nama list:\n",
        "  print(n, end=' ')\"\n",
        "Jika  ingin menambahkan seluruh list dengan menggunakan perulangan seperti ini \"\n",
        "multiplicands = (2, 2, 2, 3, 3, 5)\n",
        "product = 1\n",
        "for mult in multiplicands:\n",
        "    produt = product * mult\n",
        "product\"\n",
        "\n",
        "terkadang dalam  loop juga menggunakan \"range()\" digunakan dalam for loop untuk mengontrol jumlah iterasi dan menghasilkan nilai yang digunakan dalam setiap iterasi.\n",
        "\n",
        "selain loop dengan menggunakan \"for\" juga ada loop dengan menggunakan \"while\" yang akan berhenti ketika suatu kondisi terpenuhi"
      ],
      "metadata": {
        "id": "2J07prcIeK40"
      }
    },
    {
      "cell_type": "code",
      "source": [
        "hello = \"hello\\nworld\"\n",
        "print(hello)\n",
        "triplequoted_hello = \"\"\"hello\n",
        "world\"\"\"\n",
        "print(triplequoted_hello)\n",
        "print(\"hello\", end='')\n",
        "print(\"pluto\", end='')\n",
        "planet = 'Pluto'\n",
        "planet[0]\n",
        "planet[-3:]\n",
        "claim = \"Pluto is a planet!\"\n",
        "claim.upper()\n",
        "claim.lower()\n",
        "claim.index('plan')\n",
        "words = claim.split()\n",
        "words\n",
        "datestr = '1956-01-31'\n",
        "year, month, day = datestr.split('-')\n",
        "'/'.join([month, day, year])"
      ],
      "metadata": {
        "colab": {
          "base_uri": "https://localhost:8080/",
          "height": 122
        },
        "id": "ahutL3pY1PhS",
        "outputId": "d3dc7af5-603c-475f-e36e-90d47f0755cf"
      },
      "execution_count": 29,
      "outputs": [
        {
          "output_type": "stream",
          "name": "stdout",
          "text": [
            "hello\n",
            "world\n",
            "hello\n",
            "world\n",
            "hellopluto"
          ]
        },
        {
          "output_type": "execute_result",
          "data": {
            "text/plain": [
              "'01/31/1956'"
            ],
            "application/vnd.google.colaboratory.intrinsic+json": {
              "type": "string"
            }
          },
          "metadata": {},
          "execution_count": 29
        }
      ]
    },
    {
      "cell_type": "markdown",
      "source": [
        "tanda \"\\n\" digunakan untuk karakter baris baru selain itu (\"\"\" \"\"\") juga bisa membuat string multi-baris tanpa perlu \"\\n\" lalu juga ada \"end=''\" menghilangkan baris baru otomatis.Jika ingin mengambil satu huruf dari variabel dapat menggunakan \"list[index]\" jika ingin mengubah satu variabel string menjadi seluruh huruf besar dapat menggunakan \"upper()\", mengubahnya menjadi huruf kecil menjadi \"lower()\", memisahkan string berdasarkan menggunakan \"split()\" bisa memisahkannya berdasarkan simbol tertentu seperti \"-\".selain itu juga ada \"join()\"  Menggabungkan string."
      ],
      "metadata": {
        "id": "FBo41e8P9la2"
      }
    },
    {
      "cell_type": "code",
      "source": [
        "import math as mt\n",
        "mt.pi"
      ],
      "metadata": {
        "colab": {
          "base_uri": "https://localhost:8080/"
        },
        "id": "Lf9PNf0C9ksY",
        "outputId": "9103f8a9-9622-4a7d-84eb-7819ed50e692"
      },
      "execution_count": 9,
      "outputs": [
        {
          "output_type": "execute_result",
          "data": {
            "text/plain": [
              "3.141592653589793"
            ]
          },
          "metadata": {},
          "execution_count": 9
        }
      ]
    },
    {
      "cell_type": "code",
      "source": [
        "math.log(32, 2)"
      ],
      "metadata": {
        "colab": {
          "base_uri": "https://localhost:8080/"
        },
        "id": "8Ji5KhNh-Cax",
        "outputId": "c706c331-f65b-4b4b-f6d1-7de333dcbc93"
      },
      "execution_count": 10,
      "outputs": [
        {
          "output_type": "execute_result",
          "data": {
            "text/plain": [
              "5.0"
            ]
          },
          "metadata": {},
          "execution_count": 10
        }
      ]
    },
    {
      "cell_type": "code",
      "source": [
        "from math import log, pi\n",
        "import numpy\n",
        "from numpy import asarray\n",
        "\n",
        "rolls = numpy.random.randint(low=1, high=6, size=10)\n",
        "rolls"
      ],
      "metadata": {
        "colab": {
          "base_uri": "https://localhost:8080/"
        },
        "id": "Duvh-4Nz-EQ0",
        "outputId": "7ed59294-f46d-433e-99ef-44a627a90c68"
      },
      "execution_count": 30,
      "outputs": [
        {
          "output_type": "execute_result",
          "data": {
            "text/plain": [
              "array([2, 3, 5, 1, 3, 5, 3, 4, 3, 5])"
            ]
          },
          "metadata": {},
          "execution_count": 30
        }
      ]
    },
    {
      "cell_type": "code",
      "source": [
        "rolls.mean()"
      ],
      "metadata": {
        "colab": {
          "base_uri": "https://localhost:8080/"
        },
        "id": "Tkh-Ye4N-whd",
        "outputId": "c9dbe8ef-ae6e-4b78-a18e-840f47bb7bae"
      },
      "execution_count": 31,
      "outputs": [
        {
          "output_type": "execute_result",
          "data": {
            "text/plain": [
              "3.4"
            ]
          },
          "metadata": {},
          "execution_count": 31
        }
      ]
    },
    {
      "cell_type": "code",
      "source": [
        "rolls.tolist()"
      ],
      "metadata": {
        "colab": {
          "base_uri": "https://localhost:8080/"
        },
        "id": "s7pTiX4C-yXr",
        "outputId": "489be7dc-ede1-4f90-dee3-23246e519579"
      },
      "execution_count": 32,
      "outputs": [
        {
          "output_type": "execute_result",
          "data": {
            "text/plain": [
              "[2, 3, 5, 1, 3, 5, 3, 4, 3, 5]"
            ]
          },
          "metadata": {},
          "execution_count": 32
        }
      ]
    },
    {
      "cell_type": "code",
      "source": [
        "rolls + 10"
      ],
      "metadata": {
        "colab": {
          "base_uri": "https://localhost:8080/"
        },
        "id": "6V6k2Dir-0YP",
        "outputId": "03dff385-7b1c-48eb-ab99-48f76cd1da9b"
      },
      "execution_count": 33,
      "outputs": [
        {
          "output_type": "execute_result",
          "data": {
            "text/plain": [
              "array([12, 13, 15, 11, 13, 15, 13, 14, 13, 15])"
            ]
          },
          "metadata": {},
          "execution_count": 33
        }
      ]
    },
    {
      "cell_type": "markdown",
      "source": [
        "Dalam python terdapat banyak libery yang dapat mempermudah dalam membuat program seperti numpy dan lainnya.Di dalam numpy terdapat \"random\" untuk angka acak ,\"mean\" untuk menghitung rata rata ,\"tolist\" untuk mengubah array menjadi list dan kode kode lainnya."
      ],
      "metadata": {
        "id": "MRYuLLEvi-7m"
      }
    }
  ]
}