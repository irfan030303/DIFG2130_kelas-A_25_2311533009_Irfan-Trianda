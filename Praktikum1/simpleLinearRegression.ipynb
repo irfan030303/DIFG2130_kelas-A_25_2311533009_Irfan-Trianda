{
  "nbformat": 4,
  "nbformat_minor": 0,
  "metadata": {
    "colab": {
      "provenance": [],
      "authorship_tag": "ABX9TyNFvsQN7HvXQL/V1mJ9ZIPG",
      "include_colab_link": true
    },
    "kernelspec": {
      "name": "python3",
      "display_name": "Python 3"
    },
    "language_info": {
      "name": "python"
    }
  },
  "cells": [
    {
      "cell_type": "markdown",
      "metadata": {
        "id": "view-in-github",
        "colab_type": "text"
      },
      "source": [
        "<a href=\"https://colab.research.google.com/github/irfan030303/DIFG2130_kelas-A_25_2311533009_Irfan-Trianda/blob/main/Praktikum1/simpleLinearRegression.ipynb\" target=\"_parent\"><img src=\"https://colab.research.google.com/assets/colab-badge.svg\" alt=\"Open In Colab\"/></a>"
      ]
    },
    {
      "cell_type": "code",
      "execution_count": null,
      "metadata": {
        "id": "dKwWy73-KzLa"
      },
      "outputs": [],
      "source": []
    }
  ]
}